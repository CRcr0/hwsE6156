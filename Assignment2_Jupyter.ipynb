{
  "cells": [
    {
      "cell_type": "markdown",
      "source": [
        "If you are running on HPC, Please specify all packages here as a jupyter notebook install or module load"
      ],
      "metadata": {
        "id": "bbqdskBf3-e7"
      },
      "id": "bbqdskBf3-e7"
    },
    {
      "cell_type": "code",
      "execution_count": null,
      "id": "a6eba215",
      "metadata": {
        "id": "a6eba215"
      },
      "outputs": [],
      "source": [
        "# !module load anaconda/2021.11\n",
        "# !module load cuda/12.2\n",
        "# !nvidia-smi\n",
        "# !nvcc --version"
      ]
    },
    {
      "cell_type": "code",
      "execution_count": null,
      "id": "7fd94160",
      "metadata": {
        "id": "7fd94160"
      },
      "outputs": [],
      "source": [
        "## Specify your pip install and module load here"
      ]
    },
    {
      "cell_type": "code",
      "execution_count": null,
      "id": "cde13fa2",
      "metadata": {
        "id": "cde13fa2"
      },
      "outputs": [],
      "source": [
        "## Your potential Task:\n",
        "##Your Package imported\n",
        "\n",
        "## For your reference, here is the package I am using\n",
        "\n",
        "import torch\n",
        "import torch.nn as nn\n",
        "import torch.nn.functional as F\n",
        "import torch.optim as optim\n",
        "import torchvision\n",
        "import torchvision.transforms as transforms\n",
        "from torch.utils.data import DataLoader\n",
        "import matplotlib.pyplot as plt\n",
        "from IPython.display import display, clear_output\n",
        "import pandas as pd\n"
      ]
    },
    {
      "cell_type": "markdown",
      "source": [
        "Load Cifar 10 dataset"
      ],
      "metadata": {
        "id": "V-_M50PMAcUM"
      },
      "id": "V-_M50PMAcUM"
    },
    {
      "cell_type": "code",
      "execution_count": null,
      "id": "6c7e4878",
      "metadata": {
        "id": "6c7e4878",
        "outputId": "be5edf17-ffc1-43d0-c2aa-730f14782d45",
        "colab": {
          "base_uri": "https://localhost:8080/"
        }
      },
      "outputs": [
        {
          "output_type": "stream",
          "name": "stdout",
          "text": [
            "Downloading https://www.cs.toronto.edu/~kriz/cifar-10-python.tar.gz to ./data/cifar-10-python.tar.gz\n"
          ]
        },
        {
          "output_type": "stream",
          "name": "stderr",
          "text": [
            "100%|██████████| 170M/170M [00:04<00:00, 40.6MB/s]\n"
          ]
        },
        {
          "output_type": "stream",
          "name": "stdout",
          "text": [
            "Extracting ./data/cifar-10-python.tar.gz to ./data\n",
            "Files already downloaded and verified\n"
          ]
        }
      ],
      "source": [
        "# You can also write your own data loading code\n",
        "\n",
        "transform = transforms.Compose(\n",
        "    [transforms.ToTensor(),\n",
        "     transforms.Normalize((0.5, 0.5, 0.5), (0.5, 0.5, 0.5))])\n",
        "\n",
        "trainset = torchvision.datasets.CIFAR10(root='./data', train=True,\n",
        "                                        download=True, transform=transform)\n",
        "trainloader = DataLoader(trainset, batch_size=64, shuffle=True)\n",
        "\n",
        "testset = torchvision.datasets.CIFAR10(root='./data', train=False,\n",
        "                                       download=True, transform=transform)\n",
        "testloader = DataLoader(testset, batch_size=64, shuffle=False)"
      ]
    },
    {
      "cell_type": "markdown",
      "source": [
        "**Clarify the architecture1 you are using:  model (VGG, ResNet, even Vision Transformer)**"
      ],
      "metadata": {
        "id": "eKfJmVps-BTL"
      },
      "id": "eKfJmVps-BTL"
    },
    {
      "cell_type": "code",
      "execution_count": null,
      "id": "54939a36",
      "metadata": {
        "id": "54939a36"
      },
      "outputs": [],
      "source": [
        "## Your task: Complete your architecture\n",
        "## Code Starting Here\n",
        "\n",
        "\n",
        "####"
      ]
    },
    {
      "cell_type": "markdown",
      "source": [
        "Your Training Code"
      ],
      "metadata": {
        "id": "hJ8dRbk-DgW3"
      },
      "id": "hJ8dRbk-DgW3"
    },
    {
      "cell_type": "code",
      "execution_count": null,
      "id": "fb1e0b28",
      "metadata": {
        "id": "fb1e0b28"
      },
      "outputs": [],
      "source": [
        "device = torch.device(\"cuda:0\" if torch.cuda.is_available() else \"cpu\")\n",
        "## Code Starting Here\n",
        "\n",
        "\n",
        "####\n"
      ]
    },
    {
      "cell_type": "markdown",
      "source": [
        "Your Testing Code"
      ],
      "metadata": {
        "id": "ZPqYjfluDj8Z"
      },
      "id": "ZPqYjfluDj8Z"
    },
    {
      "cell_type": "code",
      "source": [
        "## Code Starting Here\n",
        "\n",
        "\n",
        "####"
      ],
      "metadata": {
        "id": "4L7ys2mID7dp"
      },
      "id": "4L7ys2mID7dp",
      "execution_count": null,
      "outputs": []
    },
    {
      "cell_type": "markdown",
      "source": [
        "Save Your Model"
      ],
      "metadata": {
        "id": "zmxikRhrC6z3"
      },
      "id": "zmxikRhrC6z3"
    },
    {
      "cell_type": "code",
      "execution_count": null,
      "id": "1179e56d",
      "metadata": {
        "id": "1179e56d"
      },
      "outputs": [],
      "source": [
        "torch.save(model.state_dict(), './model_architecture_1.pth')\n",
        "\n",
        "## Save your log file and upload to Canvas\n",
        "# Your Code Here\n",
        "\n",
        "###"
      ]
    },
    {
      "cell_type": "markdown",
      "source": [
        "**Clarify the architecture2 you are using:  Input -> Conv Layer 1 -> Max Pooling -> Conv Layer 2 -> Max Pooling -> Conv Layer 3 -> Max Pooling -> Flatten -> FC1 -> FC2 -> Output**"
      ],
      "metadata": {
        "id": "z8FZWf3mEWLI"
      },
      "id": "z8FZWf3mEWLI"
    },
    {
      "cell_type": "code",
      "source": [
        "## Your task: Complete your architecture\n",
        "## Code Starting Here\n",
        "\n",
        "class MyCNN(nn.Module):\n",
        "    def __init__(self):\n",
        "        super(MyCNN, self).__init__()\n",
        "# Your Code Here\n",
        "\n",
        "\n",
        "\n",
        "\n",
        "\n",
        "###\n",
        "\n",
        "\n",
        "\n",
        "model = MyCNN()\n",
        "print(model)\n",
        "####"
      ],
      "metadata": {
        "id": "9LIbBrmIEo4S",
        "colab": {
          "base_uri": "https://localhost:8080/"
        },
        "outputId": "052fd7fa-44f7-46e2-bd1d-f5eef4c54d2d"
      },
      "id": "9LIbBrmIEo4S",
      "execution_count": null,
      "outputs": [
        {
          "output_type": "stream",
          "name": "stdout",
          "text": [
            "MyCNN()\n"
          ]
        }
      ]
    },
    {
      "cell_type": "markdown",
      "source": [
        "If you successfully write your model architecture, run the following training code with testing"
      ],
      "metadata": {
        "id": "l4hFFPVjEttA"
      },
      "id": "l4hFFPVjEttA"
    },
    {
      "cell_type": "code",
      "source": [
        "\n",
        "device = torch.device(\"cuda\" if torch.cuda.is_available() else \"cpu\")\n",
        "model = model.to(device)\n",
        "\n",
        "# you can adjust the hyperparameters by yourself\n",
        "criterion = nn.CrossEntropyLoss()\n",
        "optimizer = optim.Adam(model.parameters(), lr=0.001) # use your own learning rate\n",
        "\n",
        "num_epochs = 2  # use your own epoch\n",
        "train_losses = []\n",
        "test_accuracies = []\n",
        "\n",
        "for epoch in range(num_epochs):\n",
        "    model.train()\n",
        "    running_loss = 0.0\n",
        "    # Train\n",
        "    for inputs, labels in trainloader:\n",
        "        inputs, labels = inputs.to(device), labels.to(device)\n",
        "\n",
        "        optimizer.zero_grad()\n",
        "        outputs = model(inputs)\n",
        "        loss = criterion(outputs, labels)\n",
        "        loss.backward()\n",
        "        optimizer.step()\n",
        "\n",
        "        running_loss += loss.item()\n",
        "    avg_loss = running_loss / len(trainloader)\n",
        "    train_losses.append(avg_loss)\n",
        "\n",
        "\n",
        "    model.eval()\n",
        "    correct = 0\n",
        "    total = 0\n",
        "    with torch.no_grad():\n",
        "        for inputs, labels in testloader:\n",
        "            inputs, labels = inputs.to(device), labels.to(device)\n",
        "            outputs = model(inputs)\n",
        "            _, predicted = torch.max(outputs.data, 1)\n",
        "            total += labels.size(0)\n",
        "            correct += (predicted == labels).sum().item()\n",
        "    test_accuracy = 100 * correct / total\n",
        "    test_accuracies.append(test_accuracy)\n",
        "\n",
        "    print(f\"Epoch {epoch+1}/{num_epochs}, Loss: {avg_loss:.3f}, Test Accuracy: {test_accuracy:.2f}%\")\n",
        "\n",
        "print('Finished Training')"
      ],
      "metadata": {
        "id": "UR6JXPeEa-0H"
      },
      "id": "UR6JXPeEa-0H",
      "execution_count": null,
      "outputs": []
    },
    {
      "cell_type": "markdown",
      "source": [
        "Visualization"
      ],
      "metadata": {
        "id": "Y1MqmQc0cXPK"
      },
      "id": "Y1MqmQc0cXPK"
    },
    {
      "cell_type": "code",
      "source": [
        "import matplotlib.pyplot as plt\n",
        "\n",
        "plt.figure(figsize=(12, 5))\n",
        "\n",
        "# plot loss\n",
        "plt.subplot(1, 2, 1)\n",
        "plt.plot(train_losses, marker='o', label=\"Training Loss\")\n",
        "plt.xlabel(\"Epoch\")\n",
        "plt.ylabel(\"Loss\")\n",
        "plt.title(\"Training Loss over Epochs\")\n",
        "plt.legend()\n",
        "\n",
        "# plot accuracy\n",
        "plt.subplot(1, 2, 2)\n",
        "plt.plot(test_accuracies, marker='o', color='orange', label=\"Test Accuracy\")\n",
        "plt.xlabel(\"Epoch\")\n",
        "plt.ylabel(\"Accuracy (%)\")\n",
        "plt.title(\"Test Accuracy over Epochs\")\n",
        "plt.legend()\n",
        "\n",
        "plt.tight_layout()\n",
        "plt.show()"
      ],
      "metadata": {
        "id": "LbKyAj8lcMza"
      },
      "id": "LbKyAj8lcMza",
      "execution_count": null,
      "outputs": []
    },
    {
      "cell_type": "markdown",
      "source": [
        "Save Model"
      ],
      "metadata": {
        "id": "cu89iyvoGGvz"
      },
      "id": "cu89iyvoGGvz"
    },
    {
      "cell_type": "code",
      "source": [
        "torch.save(model.state_dict(), './model_architecture_2.pth')\n",
        "\n",
        "## Save your log file, and make sure you can load the model as well\n",
        "\n",
        "## Your saved model can be used in future assignments\n"
      ],
      "metadata": {
        "id": "Sq_lYzNoGH8E"
      },
      "id": "Sq_lYzNoGH8E",
      "execution_count": null,
      "outputs": []
    },
    {
      "cell_type": "markdown",
      "source": [
        "Hyperparameter Tuning (Optional, you can do manual hyperparameter adjustment as well. No panelty.)"
      ],
      "metadata": {
        "id": "fT5DHyezEM-_"
      },
      "id": "fT5DHyezEM-_"
    },
    {
      "cell_type": "code",
      "execution_count": null,
      "id": "f8e5b5d8",
      "metadata": {
        "id": "f8e5b5d8"
      },
      "outputs": [],
      "source": [
        "# !pip install optuna"
      ]
    },
    {
      "cell_type": "code",
      "execution_count": null,
      "id": "856c1e27",
      "metadata": {
        "id": "856c1e27"
      },
      "outputs": [],
      "source": [
        "\n",
        "## Code Starting Here\n",
        "\n",
        "\n",
        "####"
      ]
    }
  ],
  "metadata": {
    "kernelspec": {
      "display_name": "Python 3",
      "name": "python3"
    },
    "language_info": {
      "codemirror_mode": {
        "name": "ipython",
        "version": 3
      },
      "file_extension": ".py",
      "mimetype": "text/x-python",
      "name": "python",
      "nbconvert_exporter": "python",
      "pygments_lexer": "ipython3",
      "version": "3.8.8"
    },
    "colab": {
      "provenance": [],
      "gpuType": "T4"
    },
    "accelerator": "GPU"
  },
  "nbformat": 4,
  "nbformat_minor": 5
}